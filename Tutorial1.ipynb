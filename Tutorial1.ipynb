{
  "nbformat": 4,
  "nbformat_minor": 0,
  "metadata": {
    "colab": {
      "name": "01-Intro",
      "provenance": []
    },
    "kernelspec": {
      "name": "python3",
      "display_name": "Python 3"
    }
  },
  "cells": [
    {
      "cell_type": "markdown",
      "metadata": {
        "id": "WODHPmzCsK1d"
      },
      "source": [
        "\n",
        "<img src=\"https://i.imgur.com/RdZ1QoN.png\"></img>\n",
        "*Estimated time: 10 minutes*\n",
        "\n"
      ]
    },
    {
      "cell_type": "markdown",
      "metadata": {
        "id": "phTAu-3_t64y"
      },
      "source": [
        "# Python: the basics\n",
        "---\n",
        "Python is a general purpose programming language that supports rapid development of scripts and applications.\n",
        "\n",
        "#### Why Python?\n",
        "- Open Source software, supported by Python Software Foundation\n",
        "- Available on all major platforms (ie. Windows, Linux and MacOS)\n",
        "- It is a general-purpose programming language, designed for readability\n",
        "- Supports multiple programming paradigms ('functional', 'object oriented')\n",
        "- Very large community with a rich ecosystem of third-party packages\n",
        "\n",
        "#### How to get started?\n",
        "Using interpreter or interactive notebook, like this one. _(We will not cover on how to install in your local machine)_\n",
        "\n",
        "---\n",
        "\n",
        "#### Let's get started!\n",
        "To learn a new language, is to start with printing out random string! In Python, we just call `print(\"some strings\")`. Note that in Python, we can use `\"\"` or `''` to represent a string.\n"
      ]
    },
    {
      "cell_type": "code",
      "metadata": {
        "id": "Rn6KmWffsF78"
      },
      "source": [
        "print('Hi! I am hongvin')"
      ],
      "execution_count": null,
      "outputs": []
    },
    {
      "cell_type": "code",
      "metadata": {
        "id": "aQnhIYhtu8SP"
      },
      "source": [
        "message = 'Hi! I am hongvin'\n",
        "print(message)"
      ],
      "execution_count": null,
      "outputs": []
    },
    {
      "cell_type": "markdown",
      "metadata": {
        "id": "46h1fCXTQMX0"
      },
      "source": [
        "## Variables and data types\n",
        "---\n",
        "\n",
        "### Integers, floats, strings\n",
        "\n",
        "Let's see some example straight away!"
      ]
    },
    {
      "cell_type": "code",
      "metadata": {
        "id": "3NDLoYJ0QouW"
      },
      "source": [
        "a = 10\n",
        "b = 5.5\n",
        "c = \"hi\"\n",
        "a,b,c"
      ],
      "execution_count": null,
      "outputs": []
    },
    {
      "cell_type": "code",
      "metadata": {
        "id": "Urne1hDXQr_j"
      },
      "source": [
        "type(a),type(b),type(c)"
      ],
      "execution_count": null,
      "outputs": []
    },
    {
      "cell_type": "markdown",
      "metadata": {
        "id": "Y_6oRtLrQzf7"
      },
      "source": [
        "## Operators\n",
        "---\n",
        "\n",
        "We can perform mathematical calculations in Python using the basic operators:\n",
        "\n",
        "|Symbol|Operation|\n",
        "|:---:|:---:|\n",
        "|`+`| Addition |\n",
        "|`-`| Minus |\n",
        "|`*`| Multiplication |\n",
        "|`/`| Division |\n",
        "|`%`| Modulus |\n",
        "|`**`| Power |\n",
        "\n"
      ]
    },
    {
      "cell_type": "code",
      "metadata": {
        "id": "QhobJnVcQyo9"
      },
      "source": [
        "2+2"
      ],
      "execution_count": null,
      "outputs": []
    },
    {
      "cell_type": "code",
      "metadata": {
        "id": "NeMjVlyvRBTz"
      },
      "source": [
        "6*7"
      ],
      "execution_count": null,
      "outputs": []
    },
    {
      "cell_type": "code",
      "metadata": {
        "id": "bfmZVfFYRB-l"
      },
      "source": [
        "6**7"
      ],
      "execution_count": null,
      "outputs": []
    },
    {
      "cell_type": "code",
      "metadata": {
        "id": "V1PWZA8iRC7f"
      },
      "source": [
        "6%3"
      ],
      "execution_count": null,
      "outputs": []
    },
    {
      "cell_type": "markdown",
      "metadata": {
        "id": "Ie8M6shORhcR"
      },
      "source": [
        "## Boolean operations\n",
        "---\n",
        "\n",
        "We can also use comparison and logic operators: `<, >, ==, !=, <=, >=` and statements of identity such as `and`, `or`, `not`. The data type returned by this is called a boolean.\n",
        "\n"
      ]
    },
    {
      "cell_type": "code",
      "metadata": {
        "id": "ScMSG_QwRoVu"
      },
      "source": [
        "3 > 5"
      ],
      "execution_count": null,
      "outputs": []
    },
    {
      "cell_type": "code",
      "metadata": {
        "id": "mroC0qBFRqyg"
      },
      "source": [
        "True and False"
      ],
      "execution_count": null,
      "outputs": []
    },
    {
      "cell_type": "markdown",
      "metadata": {
        "id": "Yz1jB94gRuUD"
      },
      "source": [
        "## Lists and sequence types\n",
        "---"
      ]
    },
    {
      "cell_type": "code",
      "metadata": {
        "id": "T35cXXDRRw8a"
      },
      "source": [
        "myList = [1, 2, 3, 4, 5]\n",
        "myList"
      ],
      "execution_count": null,
      "outputs": []
    },
    {
      "cell_type": "markdown",
      "metadata": {
        "id": "mqz8EkFrT6mZ"
      },
      "source": [
        "Get the length of the list thru `len()`"
      ]
    },
    {
      "cell_type": "code",
      "metadata": {
        "id": "PtZDQIt7UAP4"
      },
      "source": [
        "len(myList)"
      ],
      "execution_count": null,
      "outputs": []
    },
    {
      "cell_type": "markdown",
      "metadata": {
        "id": "O_EsyiobT9co"
      },
      "source": [
        "Lists can contain multiple data types, including other lists"
      ]
    },
    {
      "cell_type": "code",
      "metadata": {
        "id": "5HuEYTgkUEi7"
      },
      "source": [
        "complexList = [1, 3.0, \"hi\", [1, 4, 5, \"gg\"], \"MESA\", myList]\n",
        "complexList"
      ],
      "execution_count": null,
      "outputs": []
    },
    {
      "cell_type": "markdown",
      "metadata": {
        "id": "Ay-ajNHkUPez"
      },
      "source": [
        "But how to get the element in the list? Remember that Python is 0-indexed, therefore the first element is indexed as 0."
      ]
    },
    {
      "cell_type": "code",
      "metadata": {
        "id": "AfJZaZkxUVO2"
      },
      "source": [
        "complexList[0]"
      ],
      "execution_count": null,
      "outputs": []
    },
    {
      "cell_type": "code",
      "metadata": {
        "id": "ErhAnn4BUW1Z"
      },
      "source": [
        "complexList[4]"
      ],
      "execution_count": null,
      "outputs": []
    },
    {
      "cell_type": "markdown",
      "metadata": {
        "id": "_18grtcqUcFK"
      },
      "source": [
        "How to add to the list? You can append items to the end of the list with `append()`. You can also add multiple items to the end of a list with `extend()`."
      ]
    },
    {
      "cell_type": "code",
      "metadata": {
        "id": "ge3nsGaIUaFj"
      },
      "source": [
        "myList.append(6)\n",
        "myList.extend([7,8,9])\n",
        "myList"
      ],
      "execution_count": null,
      "outputs": []
    },
    {
      "cell_type": "markdown",
      "metadata": {
        "id": "B-EHnAVEUppT"
      },
      "source": [
        "## Loops\n",
        "---\n",
        "A for loop can be used to access the elements in a list or other Python data structure one at a time."
      ]
    },
    {
      "cell_type": "code",
      "metadata": {
        "id": "JX35ZIoiUuiD"
      },
      "source": [
        "for num in numbers:\n",
        "    print(num)"
      ],
      "execution_count": null,
      "outputs": []
    },
    {
      "cell_type": "markdown",
      "metadata": {
        "id": "iLXSpt12U1xc"
      },
      "source": [
        "**Indentation** is very important in Python. Note that the second line in the example above is indented, indicating the code that is the body of the loop."
      ]
    },
    {
      "cell_type": "code",
      "metadata": {
        "id": "QeX_dXT9U738"
      },
      "source": [
        ""
      ],
      "execution_count": null,
      "outputs": []
    },
    {
      "cell_type": "code",
      "metadata": {
        "id": "oap2XWzBU4Km"
      },
      "source": [
        ""
      ],
      "execution_count": null,
      "outputs": []
    }
  ]
}