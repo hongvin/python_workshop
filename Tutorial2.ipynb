{
  "cells": [
    {
      "source": [
        "\n",
        "<img src=\"https://i.imgur.com/l1I7aJO.png\"></img>\n",
        "*Estimated time: 15 minutes*\n"
      ],
      "cell_type": "markdown",
      "metadata": {}
    },
    {
      "cell_type": "markdown",
      "source": [
        "# Pandas\n",
        "> `pandas` is derived from the term \"panel data\", an econometrics term for data sets that include observations over multiple time periods for the same individuals. — Wikipedia\n",
        "\n",
        "The `pandas` package is the most important tool at the disposal of Data Scientists and Analysts working in Python today. Through pandas, you get acquainted with your data by cleaning, transforming, and analyzing it.\n",
        "\n",
        "_Simply, `pandas` can do anything you could imagine of with data._\n",
        "\n",
        "---\n",
        "## DataFrame and Series\n",
        "\n",
        "The primary two components of `pandas` are the `Series` and `DataFrame`. A `Series` is essentially a column, and a `DataFrame` is a multi-dimensional table made up of a collection of Series.\n",
        "\n",
        "<img src=\"https://i.imgur.com/U9fZrwF.png\"></img>\n",
        "\n",
        "`DataFrames` and `Series` are quite similar in that many operations that you can do with one you can do with the other, such as filling in null values and calculating the mean.\n",
        "\n",
        "\n",
        "### Creating dataframe \n"
      ],
      "metadata": {
        "tags": [],
        "cell_id": "00001-60c7f9a3-0558-48e9-9caa-0373844e9506",
        "deepnote_cell_type": "markdown"
      }
    },
    {
      "cell_type": "code",
      "metadata": {
        "tags": [],
        "cell_id": "00001-736f2877-8dc6-4ce4-8800-6a408d8757d7",
        "deepnote_to_be_reexecuted": false,
        "source_hash": "868c63aa",
        "execution_millis": 10,
        "execution_start": 1615205583272,
        "deepnote_cell_type": "code"
      },
      "source": [
        "import pandas as pd\n",
        "\n",
        "data = {\n",
        "    'durians': [4, 55, 32, 13], \n",
        "    'apples': [3, 56, 3, 1]\n",
        "}\n",
        "\n",
        "fruit = pd.DataFrame(data)\n",
        "fruit"
      ],
      "execution_count": 1,
      "outputs": [
        {
          "output_type": "execute_result",
          "data": {
            "text/plain": [
              "   durians  apples\n",
              "0        4       3\n",
              "1       55      56\n",
              "2       32       3\n",
              "3       13       1"
            ],
            "text/html": "<div>\n<style scoped>\n    .dataframe tbody tr th:only-of-type {\n        vertical-align: middle;\n    }\n\n    .dataframe tbody tr th {\n        vertical-align: top;\n    }\n\n    .dataframe thead th {\n        text-align: right;\n    }\n</style>\n<table border=\"1\" class=\"dataframe\">\n  <thead>\n    <tr style=\"text-align: right;\">\n      <th></th>\n      <th>durians</th>\n      <th>apples</th>\n    </tr>\n  </thead>\n  <tbody>\n    <tr>\n      <th>0</th>\n      <td>4</td>\n      <td>3</td>\n    </tr>\n    <tr>\n      <th>1</th>\n      <td>55</td>\n      <td>56</td>\n    </tr>\n    <tr>\n      <th>2</th>\n      <td>32</td>\n      <td>3</td>\n    </tr>\n    <tr>\n      <th>3</th>\n      <td>13</td>\n      <td>1</td>\n    </tr>\n  </tbody>\n</table>\n</div>"
          },
          "metadata": {},
          "execution_count": 1
        }
      ]
    },
    {
      "cell_type": "markdown",
      "source": [
        "Each item (key, value) in data corresponds to a column in the resulting `DataFrame`.\n",
        "\n",
        "The Index of this DataFrame was given to us on creation as the numbers 0-3, but we could also create our own when we initialize the `DataFrame`.\n",
        "\n",
        "Let's put customer names as our index:\n"
      ],
      "metadata": {
        "tags": [],
        "cell_id": "00002-a3d69ee4-288f-44fe-8ca9-3f9dc54c7a9c",
        "deepnote_cell_type": "markdown"
      }
    },
    {
      "cell_type": "code",
      "source": [
        "fruit = pd.DataFrame(data, index=['Ali', 'Abu', 'Lim', 'Muthu'])\n",
        "\n",
        "fruit"
      ],
      "metadata": {
        "tags": [],
        "cell_id": "00003-30468196-2f2e-4318-98d3-83d07366d6cc",
        "deepnote_to_be_reexecuted": false,
        "source_hash": "aadb146",
        "execution_millis": 8,
        "execution_start": 1615205588364,
        "deepnote_cell_type": "code"
      },
      "outputs": [
        {
          "output_type": "execute_result",
          "data": {
            "text/plain": [
              "       durians  apples\n",
              "Ali          4       3\n",
              "Abu         55      56\n",
              "Lim         32       3\n",
              "Muthu       13       1"
            ],
            "text/html": "<div>\n<style scoped>\n    .dataframe tbody tr th:only-of-type {\n        vertical-align: middle;\n    }\n\n    .dataframe tbody tr th {\n        vertical-align: top;\n    }\n\n    .dataframe thead th {\n        text-align: right;\n    }\n</style>\n<table border=\"1\" class=\"dataframe\">\n  <thead>\n    <tr style=\"text-align: right;\">\n      <th></th>\n      <th>durians</th>\n      <th>apples</th>\n    </tr>\n  </thead>\n  <tbody>\n    <tr>\n      <th>Ali</th>\n      <td>4</td>\n      <td>3</td>\n    </tr>\n    <tr>\n      <th>Abu</th>\n      <td>55</td>\n      <td>56</td>\n    </tr>\n    <tr>\n      <th>Lim</th>\n      <td>32</td>\n      <td>3</td>\n    </tr>\n    <tr>\n      <th>Muthu</th>\n      <td>13</td>\n      <td>1</td>\n    </tr>\n  </tbody>\n</table>\n</div>"
          },
          "metadata": {},
          "execution_count": 2
        }
      ],
      "execution_count": 2
    },
    {
      "cell_type": "markdown",
      "source": [
        "### Locating the customer\n",
        "\n",
        "We can locate a customer's order by using their name with `loc`."
      ],
      "metadata": {
        "tags": [],
        "cell_id": "00005-1a1122d0-240e-4ce1-b04e-4e9a9074ec19",
        "deepnote_cell_type": "markdown"
      }
    },
    {
      "cell_type": "code",
      "source": [
        "fruit.loc['Ali']"
      ],
      "metadata": {
        "tags": [],
        "cell_id": "00005-7e5ad275-23e2-4aec-8c99-0f1be4a45bdc",
        "deepnote_to_be_reexecuted": false,
        "source_hash": "8cc74e29",
        "execution_millis": 17,
        "execution_start": 1615205594224,
        "deepnote_cell_type": "code"
      },
      "outputs": [
        {
          "output_type": "execute_result",
          "data": {
            "text/plain": [
              "durians    4\n",
              "apples     3\n",
              "Name: Ali, dtype: int64"
            ]
          },
          "metadata": {},
          "execution_count": 3
        }
      ],
      "execution_count": 3
    },
    {
      "cell_type": "markdown",
      "source": [
        "---\n",
        "\n",
        "## Read CSV files\n",
        "\n",
        "Reading CSV files is a single line to load in the data.\n",
        "\n",
        "_`wget` is a comment to retrieves content from web servers._"
      ],
      "metadata": {
        "tags": [],
        "cell_id": "00006-11397ffe-a28d-4485-b85b-9d6818c02718",
        "deepnote_cell_type": "markdown"
      }
    },
    {
      "cell_type": "code",
      "source": [
        "!wget http://gg.gg/fruit-csv -O fruit.csv"
      ],
      "metadata": {
        "tags": [],
        "cell_id": "00007-05a5a7a9-decc-471b-82a2-2b27f8c25609",
        "deepnote_to_be_reexecuted": false,
        "source_hash": "93c72de4",
        "execution_millis": 982,
        "execution_start": 1615205598299,
        "deepnote_cell_type": "code"
      },
      "outputs": [
        {
          "output_type": "stream",
          "name": "stdout",
          "text": [
            "--2021-03-08 21:02:32--  http://gg.gg/fruit-csv\n",
            "Resolving gg.gg (gg.gg)... 185.15.209.141\n",
            "Connecting to gg.gg (gg.gg)|185.15.209.141|:80... connected.\n",
            "HTTP request sent, awaiting response... 301 Moved Permanently\n",
            "Location: https://gist.githubusercontent.com/khvmaths/a5eab33562c1a0e4d30901af8203784c/raw/505eca83251888c84c2b336be841aa5ea0f318f2/fruit.csv [following]\n",
            "--2021-03-08 21:02:33--  https://gist.githubusercontent.com/khvmaths/a5eab33562c1a0e4d30901af8203784c/raw/505eca83251888c84c2b336be841aa5ea0f318f2/fruit.csv\n",
            "Resolving gist.githubusercontent.com (gist.githubusercontent.com)... 185.199.110.133, 185.199.109.133, 185.199.108.133, ...\n",
            "Connecting to gist.githubusercontent.com (gist.githubusercontent.com)|185.199.110.133|:443... connected.\n",
            "HTTP request sent, awaiting response... 200 OK\n",
            "Length: 53 [text/plain]\n",
            "Saving to: ‘fruit.csv’\n",
            "\n",
            "fruit.csv           100%[===================>]      53  --.-KB/s    in 0s      \n",
            "\n",
            "2021-03-08 21:02:33 (1.81 MB/s) - ‘fruit.csv’ saved [53/53]\n",
            "\n"
          ]
        }
      ],
      "execution_count": 4
    },
    {
      "cell_type": "code",
      "source": [
        "df = pd.read_csv('fruit.csv')\n",
        "df"
      ],
      "metadata": {
        "tags": [],
        "cell_id": "00008-7b31975f-33be-4ae5-b6c7-aac4b417df74",
        "deepnote_to_be_reexecuted": false,
        "source_hash": "a3c2ef85",
        "execution_millis": 28,
        "execution_start": 1615205601102,
        "deepnote_cell_type": "code"
      },
      "outputs": [
        {
          "output_type": "execute_result",
          "data": {
            "text/plain": [
              "  Unnamed: 0  durians  apples\n",
              "0        Ali        4       3\n",
              "1        Abu       55      56\n",
              "2        Lim       32       3\n",
              "3      Muthu       13       1"
            ],
            "text/html": "<div>\n<style scoped>\n    .dataframe tbody tr th:only-of-type {\n        vertical-align: middle;\n    }\n\n    .dataframe tbody tr th {\n        vertical-align: top;\n    }\n\n    .dataframe thead th {\n        text-align: right;\n    }\n</style>\n<table border=\"1\" class=\"dataframe\">\n  <thead>\n    <tr style=\"text-align: right;\">\n      <th></th>\n      <th>Unnamed: 0</th>\n      <th>durians</th>\n      <th>apples</th>\n    </tr>\n  </thead>\n  <tbody>\n    <tr>\n      <th>0</th>\n      <td>Ali</td>\n      <td>4</td>\n      <td>3</td>\n    </tr>\n    <tr>\n      <th>1</th>\n      <td>Abu</td>\n      <td>55</td>\n      <td>56</td>\n    </tr>\n    <tr>\n      <th>2</th>\n      <td>Lim</td>\n      <td>32</td>\n      <td>3</td>\n    </tr>\n    <tr>\n      <th>3</th>\n      <td>Muthu</td>\n      <td>13</td>\n      <td>1</td>\n    </tr>\n  </tbody>\n</table>\n</div>"
          },
          "metadata": {},
          "execution_count": 5
        }
      ],
      "execution_count": 5
    },
    {
      "cell_type": "markdown",
      "source": [
        "CSV doesn't have indexes like `DataFrames`. So, we need to designate the `index_col` when reading."
      ],
      "metadata": {
        "tags": [],
        "cell_id": "00009-25304ada-ab26-42c2-8017-e41f739bddfd",
        "deepnote_cell_type": "markdown"
      }
    },
    {
      "cell_type": "code",
      "source": [
        "df = pd.read_csv('fruit.csv',index_col=0)\n",
        "df"
      ],
      "metadata": {
        "tags": [],
        "cell_id": "00010-215ec5c2-e5c5-446c-841b-4d278b0485c2",
        "deepnote_to_be_reexecuted": false,
        "source_hash": "2d85117c",
        "execution_millis": 20,
        "execution_start": 1615205604598,
        "deepnote_cell_type": "code"
      },
      "outputs": [
        {
          "output_type": "execute_result",
          "data": {
            "text/plain": [
              "       durians  apples\n",
              "Ali          4       3\n",
              "Abu         55      56\n",
              "Lim         32       3\n",
              "Muthu       13       1"
            ],
            "text/html": "<div>\n<style scoped>\n    .dataframe tbody tr th:only-of-type {\n        vertical-align: middle;\n    }\n\n    .dataframe tbody tr th {\n        vertical-align: top;\n    }\n\n    .dataframe thead th {\n        text-align: right;\n    }\n</style>\n<table border=\"1\" class=\"dataframe\">\n  <thead>\n    <tr style=\"text-align: right;\">\n      <th></th>\n      <th>durians</th>\n      <th>apples</th>\n    </tr>\n  </thead>\n  <tbody>\n    <tr>\n      <th>Ali</th>\n      <td>4</td>\n      <td>3</td>\n    </tr>\n    <tr>\n      <th>Abu</th>\n      <td>55</td>\n      <td>56</td>\n    </tr>\n    <tr>\n      <th>Lim</th>\n      <td>32</td>\n      <td>3</td>\n    </tr>\n    <tr>\n      <th>Muthu</th>\n      <td>13</td>\n      <td>1</td>\n    </tr>\n  </tbody>\n</table>\n</div>"
          },
          "metadata": {},
          "execution_count": 6
        }
      ],
      "execution_count": 6
    },
    {
      "cell_type": "markdown",
      "source": [
        "The same goes for reading JSON, SQL, Excel file, etc. Basically you could read anything. Read more from the documentation [here](https://pandas.pydata.org/pandas-docs/stable/reference/io.html)"
      ],
      "metadata": {
        "tags": [],
        "cell_id": "00011-e4ba5195-ce49-4aec-a93a-a663718baab3",
        "deepnote_cell_type": "markdown"
      }
    },
    {
      "cell_type": "markdown",
      "source": [
        "---\n",
        "\n",
        "## Some more common operations that you should know!\n",
        "\n",
        "Let's save our fruit.csv into JSON file. "
      ],
      "metadata": {
        "tags": [],
        "cell_id": "00011-7c5d2c9c-296a-4d99-abcb-60a446c23df6",
        "deepnote_cell_type": "markdown"
      }
    },
    {
      "cell_type": "code",
      "source": [
        "df.to_json('fruit.json')"
      ],
      "metadata": {
        "tags": [],
        "cell_id": "00013-c59c0f37-6380-410b-bbc0-920977a39a2b",
        "deepnote_to_be_reexecuted": false,
        "source_hash": "ca7da5fa",
        "execution_millis": 4,
        "execution_start": 1615205608096,
        "deepnote_cell_type": "code"
      },
      "outputs": [],
      "execution_count": 7
    },
    {
      "cell_type": "markdown",
      "source": [
        "In Linux system, you could read a file contant through `cat` command."
      ],
      "metadata": {
        "tags": [],
        "cell_id": "00014-f999dc86-f043-41e4-a14d-240eda40df99",
        "deepnote_cell_type": "markdown"
      }
    },
    {
      "cell_type": "code",
      "source": [
        "!cat fruit.json"
      ],
      "metadata": {
        "tags": [],
        "cell_id": "00014-7abead9f-f5e5-4962-86c8-1fc69e23b9d3",
        "deepnote_to_be_reexecuted": false,
        "source_hash": "66f92f1b",
        "execution_millis": 682,
        "execution_start": 1615205611052,
        "deepnote_cell_type": "code"
      },
      "outputs": [
        {
          "output_type": "stream",
          "name": "stdout",
          "text": [
            "{\"durians\":{\"Ali\":4,\"Abu\":55,\"Lim\":32,\"Muthu\":13},\"apples\":{\"Ali\":3,\"Abu\":56,\"Lim\":3,\"Muthu\":1}}"
          ]
        }
      ],
      "execution_count": 8
    },
    {
      "cell_type": "markdown",
      "source": [
        "---\n",
        "### Viewing few rows in large dataset\n",
        "In a large file, you can't expect to print all the table, it would be very messy! Luckily, `pandas` allows to just look for the first few rows or the last few rows through `head` and `tail`."
      ],
      "metadata": {
        "tags": [],
        "cell_id": "00016-c9a3c0b7-4f9b-411b-aa49-b73dd0bfe5f7",
        "deepnote_cell_type": "markdown"
      }
    },
    {
      "cell_type": "code",
      "source": [
        "!wget http://gg.gg/cov-1 -O covid19.csv"
      ],
      "metadata": {
        "tags": [],
        "cell_id": "00012-82b49c8f-1e69-46cb-99e8-773bbc19dfba",
        "deepnote_to_be_reexecuted": false,
        "source_hash": "68e11f57",
        "execution_millis": 892,
        "execution_start": 1615205615168,
        "deepnote_cell_type": "code"
      },
      "outputs": [
        {
          "output_type": "stream",
          "name": "stdout",
          "text": [
            "--2021-03-08 21:02:34--  http://gg.gg/cov-1\n",
            "Resolving gg.gg (gg.gg)... 185.15.209.141\n",
            "Connecting to gg.gg (gg.gg)|185.15.209.141|:80... connected.\n",
            "HTTP request sent, awaiting response... 301 Moved Permanently\n",
            "Location: https://raw.githubusercontent.com/CSSEGISandData/COVID-19/master/csse_covid_19_data/csse_covid_19_time_series/time_series_covid19_confirmed_global.csv [following]\n",
            "--2021-03-08 21:02:34--  https://raw.githubusercontent.com/CSSEGISandData/COVID-19/master/csse_covid_19_data/csse_covid_19_time_series/time_series_covid19_confirmed_global.csv\n",
            "Resolving raw.githubusercontent.com (raw.githubusercontent.com)... 185.199.109.133, 185.199.108.133, 185.199.111.133, ...\n",
            "Connecting to raw.githubusercontent.com (raw.githubusercontent.com)|185.199.109.133|:443... connected.\n",
            "HTTP request sent, awaiting response... 200 OK\n",
            "Length: 516625 (505K) [text/plain]\n",
            "Saving to: ‘covid19.csv’\n",
            "\n",
            "covid19.csv         100%[===================>] 504.52K  1.41MB/s    in 0.3s    \n",
            "\n",
            "2021-03-08 21:02:35 (1.41 MB/s) - ‘covid19.csv’ saved [516625/516625]\n",
            "\n"
          ]
        }
      ],
      "execution_count": 9
    },
    {
      "cell_type": "code",
      "source": [
        "covid = pd.read_csv('covid19.csv')"
      ],
      "metadata": {
        "tags": [],
        "cell_id": "00013-8a01330a-e4a3-489a-b0a2-4d3b200f9154",
        "deepnote_to_be_reexecuted": false,
        "source_hash": "f464ba78",
        "execution_millis": 40,
        "execution_start": 1615205618569,
        "deepnote_cell_type": "code"
      },
      "outputs": [],
      "execution_count": 10
    },
    {
      "cell_type": "code",
      "source": [
        "covid.head()"
      ],
      "metadata": {
        "tags": [],
        "cell_id": "00019-6d2d5971-5049-4529-87d3-73d799fabf34",
        "deepnote_to_be_reexecuted": false,
        "source_hash": "a0374ab1",
        "execution_millis": 635,
        "execution_start": 1615205620934,
        "deepnote_cell_type": "code"
      },
      "outputs": [
        {
          "output_type": "execute_result",
          "data": {
            "text/plain": [
              "  Province/State Country/Region       Lat       Long  1/22/20  1/23/20  \\\n",
              "0            NaN    Afghanistan  33.93911  67.709953        0        0   \n",
              "1            NaN        Albania  41.15330  20.168300        0        0   \n",
              "2            NaN        Algeria  28.03390   1.659600        0        0   \n",
              "3            NaN        Andorra  42.50630   1.521800        0        0   \n",
              "4            NaN         Angola -11.20270  17.873900        0        0   \n",
              "\n",
              "   1/24/20  1/25/20  1/26/20  1/27/20  ...  2/26/21  2/27/21  2/28/21  3/1/21  \\\n",
              "0        0        0        0        0  ...    55696    55707    55714   55733   \n",
              "1        0        0        0        0  ...   105229   106215   107167  107931   \n",
              "2        0        0        0        0  ...   112805   112960   113092  113255   \n",
              "3        0        0        0        0  ...    10822    10849    10866   10889   \n",
              "4        0        0        0        0  ...    20759    20782    20807   20854   \n",
              "\n",
              "   3/2/21  3/3/21  3/4/21  3/5/21  3/6/21  3/7/21  \n",
              "0   55759   55770   55775   55827   55840   55847  \n",
              "1  108823  109674  110521  111301  112078  112897  \n",
              "2  113430  113593  113761  113948  114104  114234  \n",
              "3   10908   10948   10976   10998   11019   11042  \n",
              "4   20882   20923   20981   21026   21055   21086  \n",
              "\n",
              "[5 rows x 415 columns]"
            ],
            "text/html": "<div>\n<style scoped>\n    .dataframe tbody tr th:only-of-type {\n        vertical-align: middle;\n    }\n\n    .dataframe tbody tr th {\n        vertical-align: top;\n    }\n\n    .dataframe thead th {\n        text-align: right;\n    }\n</style>\n<table border=\"1\" class=\"dataframe\">\n  <thead>\n    <tr style=\"text-align: right;\">\n      <th></th>\n      <th>Province/State</th>\n      <th>Country/Region</th>\n      <th>Lat</th>\n      <th>Long</th>\n      <th>1/22/20</th>\n      <th>1/23/20</th>\n      <th>1/24/20</th>\n      <th>1/25/20</th>\n      <th>1/26/20</th>\n      <th>1/27/20</th>\n      <th>...</th>\n      <th>2/26/21</th>\n      <th>2/27/21</th>\n      <th>2/28/21</th>\n      <th>3/1/21</th>\n      <th>3/2/21</th>\n      <th>3/3/21</th>\n      <th>3/4/21</th>\n      <th>3/5/21</th>\n      <th>3/6/21</th>\n      <th>3/7/21</th>\n    </tr>\n  </thead>\n  <tbody>\n    <tr>\n      <th>0</th>\n      <td>NaN</td>\n      <td>Afghanistan</td>\n      <td>33.93911</td>\n      <td>67.709953</td>\n      <td>0</td>\n      <td>0</td>\n      <td>0</td>\n      <td>0</td>\n      <td>0</td>\n      <td>0</td>\n      <td>...</td>\n      <td>55696</td>\n      <td>55707</td>\n      <td>55714</td>\n      <td>55733</td>\n      <td>55759</td>\n      <td>55770</td>\n      <td>55775</td>\n      <td>55827</td>\n      <td>55840</td>\n      <td>55847</td>\n    </tr>\n    <tr>\n      <th>1</th>\n      <td>NaN</td>\n      <td>Albania</td>\n      <td>41.15330</td>\n      <td>20.168300</td>\n      <td>0</td>\n      <td>0</td>\n      <td>0</td>\n      <td>0</td>\n      <td>0</td>\n      <td>0</td>\n      <td>...</td>\n      <td>105229</td>\n      <td>106215</td>\n      <td>107167</td>\n      <td>107931</td>\n      <td>108823</td>\n      <td>109674</td>\n      <td>110521</td>\n      <td>111301</td>\n      <td>112078</td>\n      <td>112897</td>\n    </tr>\n    <tr>\n      <th>2</th>\n      <td>NaN</td>\n      <td>Algeria</td>\n      <td>28.03390</td>\n      <td>1.659600</td>\n      <td>0</td>\n      <td>0</td>\n      <td>0</td>\n      <td>0</td>\n      <td>0</td>\n      <td>0</td>\n      <td>...</td>\n      <td>112805</td>\n      <td>112960</td>\n      <td>113092</td>\n      <td>113255</td>\n      <td>113430</td>\n      <td>113593</td>\n      <td>113761</td>\n      <td>113948</td>\n      <td>114104</td>\n      <td>114234</td>\n    </tr>\n    <tr>\n      <th>3</th>\n      <td>NaN</td>\n      <td>Andorra</td>\n      <td>42.50630</td>\n      <td>1.521800</td>\n      <td>0</td>\n      <td>0</td>\n      <td>0</td>\n      <td>0</td>\n      <td>0</td>\n      <td>0</td>\n      <td>...</td>\n      <td>10822</td>\n      <td>10849</td>\n      <td>10866</td>\n      <td>10889</td>\n      <td>10908</td>\n      <td>10948</td>\n      <td>10976</td>\n      <td>10998</td>\n      <td>11019</td>\n      <td>11042</td>\n    </tr>\n    <tr>\n      <th>4</th>\n      <td>NaN</td>\n      <td>Angola</td>\n      <td>-11.20270</td>\n      <td>17.873900</td>\n      <td>0</td>\n      <td>0</td>\n      <td>0</td>\n      <td>0</td>\n      <td>0</td>\n      <td>0</td>\n      <td>...</td>\n      <td>20759</td>\n      <td>20782</td>\n      <td>20807</td>\n      <td>20854</td>\n      <td>20882</td>\n      <td>20923</td>\n      <td>20981</td>\n      <td>21026</td>\n      <td>21055</td>\n      <td>21086</td>\n    </tr>\n  </tbody>\n</table>\n<p>5 rows × 415 columns</p>\n</div>"
          },
          "metadata": {},
          "execution_count": 11
        }
      ],
      "execution_count": 11
    },
    {
      "cell_type": "code",
      "source": [
        "covid.tail()"
      ],
      "metadata": {
        "tags": [],
        "cell_id": "00020-57b6c9d5-6255-48b4-b16e-298466445c6d",
        "deepnote_to_be_reexecuted": false,
        "source_hash": "af0718ba",
        "execution_start": 1615205624914,
        "execution_millis": 520,
        "deepnote_cell_type": "code"
      },
      "outputs": [
        {
          "output_type": "execute_result",
          "data": {
            "text/plain": [
              "    Province/State      Country/Region        Lat        Long  1/22/20  \\\n",
              "269            NaN             Vietnam  14.058324  108.277199        0   \n",
              "270            NaN  West Bank and Gaza  31.952200   35.233200        0   \n",
              "271            NaN               Yemen  15.552727   48.516388        0   \n",
              "272            NaN              Zambia -13.133897   27.849332        0   \n",
              "273            NaN            Zimbabwe -19.015438   29.154857        0   \n",
              "\n",
              "     1/23/20  1/24/20  1/25/20  1/26/20  1/27/20  ...  2/26/21  2/27/21  \\\n",
              "269        2        2        2        2        2  ...     2426     2432   \n",
              "270        0        0        0        0        0  ...   180848   181909   \n",
              "271        0        0        0        0        0  ...     2267     2269   \n",
              "272        0        0        0        0        0  ...    77639    78202   \n",
              "273        0        0        0        0        0  ...    36044    36058   \n",
              "\n",
              "     2/28/21  3/1/21  3/2/21  3/3/21  3/4/21  3/5/21  3/6/21  3/7/21  \n",
              "269     2448    2448    2475    2482    2488    2494    2501    2512  \n",
              "270   183612  185336  187309  189326  191203  193029  194548  196812  \n",
              "271     2285    2310    2342    2363    2375    2411    2444    2473  \n",
              "272    78534   79002   79557   80090   80687   81341   82011   82421  \n",
              "273    36089   36115   36148   36179   36223   36248   36260   36271  \n",
              "\n",
              "[5 rows x 415 columns]"
            ],
            "text/html": "<div>\n<style scoped>\n    .dataframe tbody tr th:only-of-type {\n        vertical-align: middle;\n    }\n\n    .dataframe tbody tr th {\n        vertical-align: top;\n    }\n\n    .dataframe thead th {\n        text-align: right;\n    }\n</style>\n<table border=\"1\" class=\"dataframe\">\n  <thead>\n    <tr style=\"text-align: right;\">\n      <th></th>\n      <th>Province/State</th>\n      <th>Country/Region</th>\n      <th>Lat</th>\n      <th>Long</th>\n      <th>1/22/20</th>\n      <th>1/23/20</th>\n      <th>1/24/20</th>\n      <th>1/25/20</th>\n      <th>1/26/20</th>\n      <th>1/27/20</th>\n      <th>...</th>\n      <th>2/26/21</th>\n      <th>2/27/21</th>\n      <th>2/28/21</th>\n      <th>3/1/21</th>\n      <th>3/2/21</th>\n      <th>3/3/21</th>\n      <th>3/4/21</th>\n      <th>3/5/21</th>\n      <th>3/6/21</th>\n      <th>3/7/21</th>\n    </tr>\n  </thead>\n  <tbody>\n    <tr>\n      <th>269</th>\n      <td>NaN</td>\n      <td>Vietnam</td>\n      <td>14.058324</td>\n      <td>108.277199</td>\n      <td>0</td>\n      <td>2</td>\n      <td>2</td>\n      <td>2</td>\n      <td>2</td>\n      <td>2</td>\n      <td>...</td>\n      <td>2426</td>\n      <td>2432</td>\n      <td>2448</td>\n      <td>2448</td>\n      <td>2475</td>\n      <td>2482</td>\n      <td>2488</td>\n      <td>2494</td>\n      <td>2501</td>\n      <td>2512</td>\n    </tr>\n    <tr>\n      <th>270</th>\n      <td>NaN</td>\n      <td>West Bank and Gaza</td>\n      <td>31.952200</td>\n      <td>35.233200</td>\n      <td>0</td>\n      <td>0</td>\n      <td>0</td>\n      <td>0</td>\n      <td>0</td>\n      <td>0</td>\n      <td>...</td>\n      <td>180848</td>\n      <td>181909</td>\n      <td>183612</td>\n      <td>185336</td>\n      <td>187309</td>\n      <td>189326</td>\n      <td>191203</td>\n      <td>193029</td>\n      <td>194548</td>\n      <td>196812</td>\n    </tr>\n    <tr>\n      <th>271</th>\n      <td>NaN</td>\n      <td>Yemen</td>\n      <td>15.552727</td>\n      <td>48.516388</td>\n      <td>0</td>\n      <td>0</td>\n      <td>0</td>\n      <td>0</td>\n      <td>0</td>\n      <td>0</td>\n      <td>...</td>\n      <td>2267</td>\n      <td>2269</td>\n      <td>2285</td>\n      <td>2310</td>\n      <td>2342</td>\n      <td>2363</td>\n      <td>2375</td>\n      <td>2411</td>\n      <td>2444</td>\n      <td>2473</td>\n    </tr>\n    <tr>\n      <th>272</th>\n      <td>NaN</td>\n      <td>Zambia</td>\n      <td>-13.133897</td>\n      <td>27.849332</td>\n      <td>0</td>\n      <td>0</td>\n      <td>0</td>\n      <td>0</td>\n      <td>0</td>\n      <td>0</td>\n      <td>...</td>\n      <td>77639</td>\n      <td>78202</td>\n      <td>78534</td>\n      <td>79002</td>\n      <td>79557</td>\n      <td>80090</td>\n      <td>80687</td>\n      <td>81341</td>\n      <td>82011</td>\n      <td>82421</td>\n    </tr>\n    <tr>\n      <th>273</th>\n      <td>NaN</td>\n      <td>Zimbabwe</td>\n      <td>-19.015438</td>\n      <td>29.154857</td>\n      <td>0</td>\n      <td>0</td>\n      <td>0</td>\n      <td>0</td>\n      <td>0</td>\n      <td>0</td>\n      <td>...</td>\n      <td>36044</td>\n      <td>36058</td>\n      <td>36089</td>\n      <td>36115</td>\n      <td>36148</td>\n      <td>36179</td>\n      <td>36223</td>\n      <td>36248</td>\n      <td>36260</td>\n      <td>36271</td>\n    </tr>\n  </tbody>\n</table>\n<p>5 rows × 415 columns</p>\n</div>"
          },
          "metadata": {},
          "execution_count": 12
        }
      ],
      "execution_count": 12
    },
    {
      "cell_type": "markdown",
      "source": [
        "Typically when we load in a dataset, we like to view the first five or so rows to see what's under the hood. Here we can see the names of each column, the index, and examples of values in each row.\n",
        "\n",
        "---\n",
        "\n",
        "### Getting info about the data\n",
        "`.info()` should be one of the very first commands you run after loading your data:"
      ],
      "metadata": {
        "tags": [],
        "cell_id": "00021-04a1c619-fec4-43df-b681-382236bf64dd",
        "deepnote_cell_type": "markdown"
      }
    },
    {
      "cell_type": "code",
      "source": [
        "covid.info()"
      ],
      "metadata": {
        "tags": [],
        "cell_id": "00021-2fc8eca7-71dc-48ef-91f7-fbc8d72c33d1",
        "deepnote_to_be_reexecuted": false,
        "source_hash": "6975f94b",
        "execution_start": 1615205721918,
        "execution_millis": 8,
        "deepnote_cell_type": "code"
      },
      "outputs": [
        {
          "output_type": "stream",
          "name": "stdout",
          "text": [
            "<class 'pandas.core.frame.DataFrame'>\nRangeIndex: 274 entries, 0 to 273\nColumns: 415 entries, Province/State to 3/7/21\ndtypes: float64(2), int64(411), object(2)\nmemory usage: 888.5+ KB\n"
          ]
        }
      ],
      "execution_count": 13
    },
    {
      "cell_type": "markdown",
      "source": [
        "`.info()` provides the essential details about your dataset, such as the number of rows and columns, the number of non-null values, what type of data is in each column, and how much memory your DataFrame is using.\n",
        "\n",
        "---\n",
        "\n",
        "### Shape of the data\n",
        "\n",
        "Another fast and useful attribute is `.shape`, which outputs just a tuple of (rows, columns):"
      ],
      "metadata": {
        "tags": [],
        "cell_id": "00023-ee39fedf-a810-432f-843b-1a282e0ff2b5",
        "deepnote_cell_type": "markdown"
      }
    },
    {
      "cell_type": "code",
      "source": [
        "covid.shape"
      ],
      "metadata": {
        "tags": [],
        "cell_id": "00024-191f42a6-c5c9-4343-92b9-06bd27aa0d7a",
        "deepnote_to_be_reexecuted": false,
        "source_hash": "2bb404a6",
        "execution_start": 1615205808651,
        "execution_millis": 10,
        "deepnote_cell_type": "code"
      },
      "outputs": [
        {
          "output_type": "execute_result",
          "data": {
            "text/plain": [
              "(274, 415)"
            ]
          },
          "metadata": {},
          "execution_count": 14
        }
      ],
      "execution_count": 14
    },
    {
      "cell_type": "markdown",
      "source": [
        "This means we have 247 rows with 415 columns in the DataFrame.\n",
        "\n",
        "---\n",
        "\n",
        "### Duplicates\n",
        "\n",
        "To demonstrate, let's simply just double up our movies DataFrame by appending it to itself."
      ],
      "metadata": {
        "tags": [],
        "cell_id": "00025-3e1cd9d1-aa91-4091-8861-44a05121e525",
        "deepnote_cell_type": "markdown"
      }
    },
    {
      "cell_type": "code",
      "source": [
        "covid_tmp = covid.append(covid)\n",
        "covid_tmp.shape"
      ],
      "metadata": {
        "tags": [],
        "cell_id": "00026-8d92e904-e756-4c68-a50f-fac82f47a4e7",
        "deepnote_to_be_reexecuted": false,
        "source_hash": "4451588",
        "execution_start": 1615205899648,
        "execution_millis": 8,
        "deepnote_cell_type": "code"
      },
      "outputs": [
        {
          "output_type": "execute_result",
          "data": {
            "text/plain": [
              "(548, 415)"
            ]
          },
          "metadata": {},
          "execution_count": 15
        }
      ],
      "execution_count": 15
    },
    {
      "cell_type": "markdown",
      "source": [
        "Using `append()` will return a copy without affecting the original DataFrame. Now, let's drop the duplicates."
      ],
      "metadata": {
        "tags": [],
        "cell_id": "00027-cd17ffb8-ad81-421e-b42c-ba63597d4880",
        "deepnote_cell_type": "markdown"
      }
    },
    {
      "cell_type": "code",
      "source": [
        "covid_tmp = covid.drop_duplicates()\n",
        "covid_tmp.shape"
      ],
      "metadata": {
        "tags": [],
        "cell_id": "00028-48459001-3f3b-4017-9a19-d452524e3dc2",
        "deepnote_to_be_reexecuted": false,
        "source_hash": "ac11cdf2",
        "execution_start": 1615205951985,
        "execution_millis": 599,
        "deepnote_cell_type": "code"
      },
      "outputs": [
        {
          "output_type": "execute_result",
          "data": {
            "text/plain": [
              "(274, 415)"
            ]
          },
          "metadata": {},
          "execution_count": 16
        }
      ],
      "execution_count": 16
    },
    {
      "cell_type": "markdown",
      "source": [
        "It's a little verbose to keep assigning DataFrames to the same variable like in this example. For this reason, `pandas` has the inplace keyword argument on many of its methods. Using `inplace=True` will modify the DataFrame object in place. Another important argument for `drop_duplicates()` is keep, which has three possible options:\n",
        "\n",
        "- `first`: (default) Drop duplicates except for the first occurrence.\n",
        "- `last`: Drop duplicates except for the last occurrence.\n",
        "- `False`: Drop all duplicates."
      ],
      "metadata": {
        "tags": [],
        "cell_id": "00029-5e522eaf-1afb-4c25-9601-2809c3e4dfa7",
        "deepnote_cell_type": "markdown"
      }
    },
    {
      "cell_type": "code",
      "source": [
        "covid_tmp.drop_duplicates(inplace=True, keep=False)"
      ],
      "metadata": {
        "tags": [],
        "cell_id": "00029-ba3b45e9-f751-475c-bc0d-cd50d2048ab6",
        "deepnote_cell_type": "code"
      },
      "outputs": [],
      "execution_count": 17
    },
    {
      "cell_type": "markdown",
      "source": [
        "---\n",
        "\n",
        "### Columns\n",
        "\n",
        "When we have a large dataset, we might forget the column name, with  upper and lowercase words, spaces, and typos. To make selecting data by column name easier we can spend a little time cleaning up their names."
      ],
      "metadata": {
        "tags": [],
        "cell_id": "00031-1e0fd7ec-5c1d-4b20-8b21-70239f2f19ed",
        "deepnote_cell_type": "markdown"
      }
    },
    {
      "cell_type": "code",
      "source": [
        "covid.columns"
      ],
      "metadata": {
        "tags": [],
        "cell_id": "00032-35899293-685c-4462-b786-d71cb211b927",
        "deepnote_to_be_reexecuted": false,
        "source_hash": "9c61e88c",
        "execution_start": 1615206247955,
        "execution_millis": 8,
        "deepnote_cell_type": "code"
      },
      "outputs": [
        {
          "output_type": "execute_result",
          "data": {
            "text/plain": [
              "Index(['Province/State', 'Country/Region', 'Lat', 'Long', '1/22/20', '1/23/20',\n",
              "       '1/24/20', '1/25/20', '1/26/20', '1/27/20',\n",
              "       ...\n",
              "       '2/26/21', '2/27/21', '2/28/21', '3/1/21', '3/2/21', '3/3/21', '3/4/21',\n",
              "       '3/5/21', '3/6/21', '3/7/21'],\n",
              "      dtype='object', length=415)"
            ]
          },
          "metadata": {},
          "execution_count": 18
        }
      ],
      "execution_count": 18
    },
    {
      "cell_type": "markdown",
      "source": [
        "We can use the `.rename()` method to rename certain or all columns via a dict."
      ],
      "metadata": {
        "tags": [],
        "cell_id": "00033-2580aa5a-c1d6-4212-a2e6-13f7e7e2c2ce",
        "deepnote_cell_type": "markdown"
      }
    },
    {
      "cell_type": "code",
      "source": [
        "covid.rename(columns={\n",
        "        'Province/State': 'Province', \n",
        "        'Country/Region': 'Country'\n",
        "    }, inplace=True)\n",
        "covid.columns"
      ],
      "metadata": {
        "tags": [],
        "cell_id": "00034-6dd6924b-aef7-40bf-a976-fba21e9ab6c9",
        "deepnote_to_be_reexecuted": false,
        "source_hash": "d1b63ffc",
        "execution_millis": 23,
        "execution_start": 1615206329410,
        "deepnote_cell_type": "code"
      },
      "outputs": [
        {
          "output_type": "execute_result",
          "data": {
            "text/plain": [
              "Index(['Province', 'Country', 'Lat', 'Long', '1/22/20', '1/23/20', '1/24/20',\n",
              "       '1/25/20', '1/26/20', '1/27/20',\n",
              "       ...\n",
              "       '2/26/21', '2/27/21', '2/28/21', '3/1/21', '3/2/21', '3/3/21', '3/4/21',\n",
              "       '3/5/21', '3/6/21', '3/7/21'],\n",
              "      dtype='object', length=415)"
            ]
          },
          "metadata": {},
          "execution_count": 19
        }
      ],
      "execution_count": 19
    },
    {
      "cell_type": "markdown",
      "source": [
        "---\n",
        "\n",
        "### Missing values\n",
        "\n",
        "When exploring data, you’ll most likely encounter missing or null values, which are essentially placeholders for non-existent values. Most commonly you'll see Python's `None` or NumPy's `np.nan`, each of which are handled differently in some situations. We can use `isnull()` to check for missing values in our DataFrame."
      ],
      "metadata": {
        "tags": [],
        "cell_id": "00033-cfdbde73-9860-4ee0-99dc-3151116257e8",
        "deepnote_cell_type": "markdown"
      }
    },
    {
      "cell_type": "code",
      "source": [
        "covid.isnull()"
      ],
      "metadata": {
        "tags": [],
        "cell_id": "00036-4f8b1346-f5cb-4e43-acde-3453210685be",
        "deepnote_to_be_reexecuted": false,
        "source_hash": "a05cc043",
        "execution_start": 1615206434856,
        "execution_millis": 348,
        "deepnote_cell_type": "code"
      },
      "outputs": [
        {
          "output_type": "execute_result",
          "data": {
            "text/plain": [
              "     Province  Country    Lat   Long  1/22/20  1/23/20  1/24/20  1/25/20  \\\n",
              "0        True    False  False  False    False    False    False    False   \n",
              "1        True    False  False  False    False    False    False    False   \n",
              "2        True    False  False  False    False    False    False    False   \n",
              "3        True    False  False  False    False    False    False    False   \n",
              "4        True    False  False  False    False    False    False    False   \n",
              "..        ...      ...    ...    ...      ...      ...      ...      ...   \n",
              "269      True    False  False  False    False    False    False    False   \n",
              "270      True    False  False  False    False    False    False    False   \n",
              "271      True    False  False  False    False    False    False    False   \n",
              "272      True    False  False  False    False    False    False    False   \n",
              "273      True    False  False  False    False    False    False    False   \n",
              "\n",
              "     1/26/20  1/27/20  ...  2/26/21  2/27/21  2/28/21  3/1/21  3/2/21  3/3/21  \\\n",
              "0      False    False  ...    False    False    False   False   False   False   \n",
              "1      False    False  ...    False    False    False   False   False   False   \n",
              "2      False    False  ...    False    False    False   False   False   False   \n",
              "3      False    False  ...    False    False    False   False   False   False   \n",
              "4      False    False  ...    False    False    False   False   False   False   \n",
              "..       ...      ...  ...      ...      ...      ...     ...     ...     ...   \n",
              "269    False    False  ...    False    False    False   False   False   False   \n",
              "270    False    False  ...    False    False    False   False   False   False   \n",
              "271    False    False  ...    False    False    False   False   False   False   \n",
              "272    False    False  ...    False    False    False   False   False   False   \n",
              "273    False    False  ...    False    False    False   False   False   False   \n",
              "\n",
              "     3/4/21  3/5/21  3/6/21  3/7/21  \n",
              "0     False   False   False   False  \n",
              "1     False   False   False   False  \n",
              "2     False   False   False   False  \n",
              "3     False   False   False   False  \n",
              "4     False   False   False   False  \n",
              "..      ...     ...     ...     ...  \n",
              "269   False   False   False   False  \n",
              "270   False   False   False   False  \n",
              "271   False   False   False   False  \n",
              "272   False   False   False   False  \n",
              "273   False   False   False   False  \n",
              "\n",
              "[274 rows x 415 columns]"
            ],
            "text/html": "<div>\n<style scoped>\n    .dataframe tbody tr th:only-of-type {\n        vertical-align: middle;\n    }\n\n    .dataframe tbody tr th {\n        vertical-align: top;\n    }\n\n    .dataframe thead th {\n        text-align: right;\n    }\n</style>\n<table border=\"1\" class=\"dataframe\">\n  <thead>\n    <tr style=\"text-align: right;\">\n      <th></th>\n      <th>Province</th>\n      <th>Country</th>\n      <th>Lat</th>\n      <th>Long</th>\n      <th>1/22/20</th>\n      <th>1/23/20</th>\n      <th>1/24/20</th>\n      <th>1/25/20</th>\n      <th>1/26/20</th>\n      <th>1/27/20</th>\n      <th>...</th>\n      <th>2/26/21</th>\n      <th>2/27/21</th>\n      <th>2/28/21</th>\n      <th>3/1/21</th>\n      <th>3/2/21</th>\n      <th>3/3/21</th>\n      <th>3/4/21</th>\n      <th>3/5/21</th>\n      <th>3/6/21</th>\n      <th>3/7/21</th>\n    </tr>\n  </thead>\n  <tbody>\n    <tr>\n      <th>0</th>\n      <td>True</td>\n      <td>False</td>\n      <td>False</td>\n      <td>False</td>\n      <td>False</td>\n      <td>False</td>\n      <td>False</td>\n      <td>False</td>\n      <td>False</td>\n      <td>False</td>\n      <td>...</td>\n      <td>False</td>\n      <td>False</td>\n      <td>False</td>\n      <td>False</td>\n      <td>False</td>\n      <td>False</td>\n      <td>False</td>\n      <td>False</td>\n      <td>False</td>\n      <td>False</td>\n    </tr>\n    <tr>\n      <th>1</th>\n      <td>True</td>\n      <td>False</td>\n      <td>False</td>\n      <td>False</td>\n      <td>False</td>\n      <td>False</td>\n      <td>False</td>\n      <td>False</td>\n      <td>False</td>\n      <td>False</td>\n      <td>...</td>\n      <td>False</td>\n      <td>False</td>\n      <td>False</td>\n      <td>False</td>\n      <td>False</td>\n      <td>False</td>\n      <td>False</td>\n      <td>False</td>\n      <td>False</td>\n      <td>False</td>\n    </tr>\n    <tr>\n      <th>2</th>\n      <td>True</td>\n      <td>False</td>\n      <td>False</td>\n      <td>False</td>\n      <td>False</td>\n      <td>False</td>\n      <td>False</td>\n      <td>False</td>\n      <td>False</td>\n      <td>False</td>\n      <td>...</td>\n      <td>False</td>\n      <td>False</td>\n      <td>False</td>\n      <td>False</td>\n      <td>False</td>\n      <td>False</td>\n      <td>False</td>\n      <td>False</td>\n      <td>False</td>\n      <td>False</td>\n    </tr>\n    <tr>\n      <th>3</th>\n      <td>True</td>\n      <td>False</td>\n      <td>False</td>\n      <td>False</td>\n      <td>False</td>\n      <td>False</td>\n      <td>False</td>\n      <td>False</td>\n      <td>False</td>\n      <td>False</td>\n      <td>...</td>\n      <td>False</td>\n      <td>False</td>\n      <td>False</td>\n      <td>False</td>\n      <td>False</td>\n      <td>False</td>\n      <td>False</td>\n      <td>False</td>\n      <td>False</td>\n      <td>False</td>\n    </tr>\n    <tr>\n      <th>4</th>\n      <td>True</td>\n      <td>False</td>\n      <td>False</td>\n      <td>False</td>\n      <td>False</td>\n      <td>False</td>\n      <td>False</td>\n      <td>False</td>\n      <td>False</td>\n      <td>False</td>\n      <td>...</td>\n      <td>False</td>\n      <td>False</td>\n      <td>False</td>\n      <td>False</td>\n      <td>False</td>\n      <td>False</td>\n      <td>False</td>\n      <td>False</td>\n      <td>False</td>\n      <td>False</td>\n    </tr>\n    <tr>\n      <th>...</th>\n      <td>...</td>\n      <td>...</td>\n      <td>...</td>\n      <td>...</td>\n      <td>...</td>\n      <td>...</td>\n      <td>...</td>\n      <td>...</td>\n      <td>...</td>\n      <td>...</td>\n      <td>...</td>\n      <td>...</td>\n      <td>...</td>\n      <td>...</td>\n      <td>...</td>\n      <td>...</td>\n      <td>...</td>\n      <td>...</td>\n      <td>...</td>\n      <td>...</td>\n      <td>...</td>\n    </tr>\n    <tr>\n      <th>269</th>\n      <td>True</td>\n      <td>False</td>\n      <td>False</td>\n      <td>False</td>\n      <td>False</td>\n      <td>False</td>\n      <td>False</td>\n      <td>False</td>\n      <td>False</td>\n      <td>False</td>\n      <td>...</td>\n      <td>False</td>\n      <td>False</td>\n      <td>False</td>\n      <td>False</td>\n      <td>False</td>\n      <td>False</td>\n      <td>False</td>\n      <td>False</td>\n      <td>False</td>\n      <td>False</td>\n    </tr>\n    <tr>\n      <th>270</th>\n      <td>True</td>\n      <td>False</td>\n      <td>False</td>\n      <td>False</td>\n      <td>False</td>\n      <td>False</td>\n      <td>False</td>\n      <td>False</td>\n      <td>False</td>\n      <td>False</td>\n      <td>...</td>\n      <td>False</td>\n      <td>False</td>\n      <td>False</td>\n      <td>False</td>\n      <td>False</td>\n      <td>False</td>\n      <td>False</td>\n      <td>False</td>\n      <td>False</td>\n      <td>False</td>\n    </tr>\n    <tr>\n      <th>271</th>\n      <td>True</td>\n      <td>False</td>\n      <td>False</td>\n      <td>False</td>\n      <td>False</td>\n      <td>False</td>\n      <td>False</td>\n      <td>False</td>\n      <td>False</td>\n      <td>False</td>\n      <td>...</td>\n      <td>False</td>\n      <td>False</td>\n      <td>False</td>\n      <td>False</td>\n      <td>False</td>\n      <td>False</td>\n      <td>False</td>\n      <td>False</td>\n      <td>False</td>\n      <td>False</td>\n    </tr>\n    <tr>\n      <th>272</th>\n      <td>True</td>\n      <td>False</td>\n      <td>False</td>\n      <td>False</td>\n      <td>False</td>\n      <td>False</td>\n      <td>False</td>\n      <td>False</td>\n      <td>False</td>\n      <td>False</td>\n      <td>...</td>\n      <td>False</td>\n      <td>False</td>\n      <td>False</td>\n      <td>False</td>\n      <td>False</td>\n      <td>False</td>\n      <td>False</td>\n      <td>False</td>\n      <td>False</td>\n      <td>False</td>\n    </tr>\n    <tr>\n      <th>273</th>\n      <td>True</td>\n      <td>False</td>\n      <td>False</td>\n      <td>False</td>\n      <td>False</td>\n      <td>False</td>\n      <td>False</td>\n      <td>False</td>\n      <td>False</td>\n      <td>False</td>\n      <td>...</td>\n      <td>False</td>\n      <td>False</td>\n      <td>False</td>\n      <td>False</td>\n      <td>False</td>\n      <td>False</td>\n      <td>False</td>\n      <td>False</td>\n      <td>False</td>\n      <td>False</td>\n    </tr>\n  </tbody>\n</table>\n<p>274 rows × 415 columns</p>\n</div>"
          },
          "metadata": {},
          "execution_count": 20
        }
      ],
      "execution_count": 20
    },
    {
      "cell_type": "markdown",
      "source": [
        "#### Removing null values\n",
        "\n",
        "We can remove the null value with `dropna()`."
      ],
      "metadata": {
        "tags": [],
        "cell_id": "00037-b74e8c76-09c9-4bf0-be78-ab036f7013a5",
        "deepnote_cell_type": "markdown"
      }
    },
    {
      "cell_type": "code",
      "source": [
        "covid.dropna()"
      ],
      "metadata": {
        "tags": [],
        "cell_id": "00038-1fb5714c-b4ef-4f49-bebe-ed006ba2ff78",
        "deepnote_to_be_reexecuted": false,
        "source_hash": "4e0152a9",
        "execution_start": 1615206480681,
        "execution_millis": 640,
        "deepnote_cell_type": "code"
      },
      "outputs": [
        {
          "output_type": "execute_result",
          "data": {
            "text/plain": [
              "                                         Province         Country        Lat  \\\n",
              "8                    Australian Capital Territory       Australia -35.473500   \n",
              "9                                 New South Wales       Australia -33.868800   \n",
              "10                             Northern Territory       Australia -12.463400   \n",
              "11                                     Queensland       Australia -27.469800   \n",
              "12                                South Australia       Australia -34.928500   \n",
              "..                                            ...             ...        ...   \n",
              "259                                     Gibraltar  United Kingdom  36.140800   \n",
              "260                                   Isle of Man  United Kingdom  54.236100   \n",
              "261                                    Montserrat  United Kingdom  16.742498   \n",
              "262  Saint Helena, Ascension and Tristan da Cunha  United Kingdom  -7.946700   \n",
              "263                      Turks and Caicos Islands  United Kingdom  21.694000   \n",
              "\n",
              "           Long  1/22/20  1/23/20  1/24/20  1/25/20  1/26/20  1/27/20  ...  \\\n",
              "8    149.012400        0        0        0        0        0        0  ...   \n",
              "9    151.209300        0        0        0        0        3        4  ...   \n",
              "10   130.845600        0        0        0        0        0        0  ...   \n",
              "11   153.025100        0        0        0        0        0        0  ...   \n",
              "12   138.600700        0        0        0        0        0        0  ...   \n",
              "..          ...      ...      ...      ...      ...      ...      ...  ...   \n",
              "259   -5.353600        0        0        0        0        0        0  ...   \n",
              "260   -4.548100        0        0        0        0        0        0  ...   \n",
              "261  -62.187366        0        0        0        0        0        0  ...   \n",
              "262  -14.355900        0        0        0        0        0        0  ...   \n",
              "263  -71.797900        0        0        0        0        0        0  ...   \n",
              "\n",
              "     2/26/21  2/27/21  2/28/21  3/1/21  3/2/21  3/3/21  3/4/21  3/5/21  \\\n",
              "8        118      118      118     118     120     120     120     120   \n",
              "9       5172     5177     5180    5183    5189    5193    5205    5207   \n",
              "10       105      105      105     105     105     105     105     105   \n",
              "11      1329     1329     1331    1335    1335    1342    1344    1347   \n",
              "12       613      613      616     617     618     618     618     618   \n",
              "..       ...      ...      ...     ...     ...     ...     ...     ...   \n",
              "259     4236     4238     4239    4239    4243    4243    4243    4244   \n",
              "260      475      484      484     486     494     511     546     605   \n",
              "261       20       20       20      20      20      20      20      20   \n",
              "262        4        4        4       4       4       4       4       4   \n",
              "263     2088     2099     2114    2114    2115    2132    2161    2172   \n",
              "\n",
              "     3/6/21  3/7/21  \n",
              "8       122     122  \n",
              "9      5209    5210  \n",
              "10      105     105  \n",
              "11     1349    1356  \n",
              "12      618     618  \n",
              "..      ...     ...  \n",
              "259    4247    4249  \n",
              "260     676     757  \n",
              "261      20      20  \n",
              "262       4       4  \n",
              "263    2177    2177  \n",
              "\n",
              "[84 rows x 415 columns]"
            ],
            "text/html": "<div>\n<style scoped>\n    .dataframe tbody tr th:only-of-type {\n        vertical-align: middle;\n    }\n\n    .dataframe tbody tr th {\n        vertical-align: top;\n    }\n\n    .dataframe thead th {\n        text-align: right;\n    }\n</style>\n<table border=\"1\" class=\"dataframe\">\n  <thead>\n    <tr style=\"text-align: right;\">\n      <th></th>\n      <th>Province</th>\n      <th>Country</th>\n      <th>Lat</th>\n      <th>Long</th>\n      <th>1/22/20</th>\n      <th>1/23/20</th>\n      <th>1/24/20</th>\n      <th>1/25/20</th>\n      <th>1/26/20</th>\n      <th>1/27/20</th>\n      <th>...</th>\n      <th>2/26/21</th>\n      <th>2/27/21</th>\n      <th>2/28/21</th>\n      <th>3/1/21</th>\n      <th>3/2/21</th>\n      <th>3/3/21</th>\n      <th>3/4/21</th>\n      <th>3/5/21</th>\n      <th>3/6/21</th>\n      <th>3/7/21</th>\n    </tr>\n  </thead>\n  <tbody>\n    <tr>\n      <th>8</th>\n      <td>Australian Capital Territory</td>\n      <td>Australia</td>\n      <td>-35.473500</td>\n      <td>149.012400</td>\n      <td>0</td>\n      <td>0</td>\n      <td>0</td>\n      <td>0</td>\n      <td>0</td>\n      <td>0</td>\n      <td>...</td>\n      <td>118</td>\n      <td>118</td>\n      <td>118</td>\n      <td>118</td>\n      <td>120</td>\n      <td>120</td>\n      <td>120</td>\n      <td>120</td>\n      <td>122</td>\n      <td>122</td>\n    </tr>\n    <tr>\n      <th>9</th>\n      <td>New South Wales</td>\n      <td>Australia</td>\n      <td>-33.868800</td>\n      <td>151.209300</td>\n      <td>0</td>\n      <td>0</td>\n      <td>0</td>\n      <td>0</td>\n      <td>3</td>\n      <td>4</td>\n      <td>...</td>\n      <td>5172</td>\n      <td>5177</td>\n      <td>5180</td>\n      <td>5183</td>\n      <td>5189</td>\n      <td>5193</td>\n      <td>5205</td>\n      <td>5207</td>\n      <td>5209</td>\n      <td>5210</td>\n    </tr>\n    <tr>\n      <th>10</th>\n      <td>Northern Territory</td>\n      <td>Australia</td>\n      <td>-12.463400</td>\n      <td>130.845600</td>\n      <td>0</td>\n      <td>0</td>\n      <td>0</td>\n      <td>0</td>\n      <td>0</td>\n      <td>0</td>\n      <td>...</td>\n      <td>105</td>\n      <td>105</td>\n      <td>105</td>\n      <td>105</td>\n      <td>105</td>\n      <td>105</td>\n      <td>105</td>\n      <td>105</td>\n      <td>105</td>\n      <td>105</td>\n    </tr>\n    <tr>\n      <th>11</th>\n      <td>Queensland</td>\n      <td>Australia</td>\n      <td>-27.469800</td>\n      <td>153.025100</td>\n      <td>0</td>\n      <td>0</td>\n      <td>0</td>\n      <td>0</td>\n      <td>0</td>\n      <td>0</td>\n      <td>...</td>\n      <td>1329</td>\n      <td>1329</td>\n      <td>1331</td>\n      <td>1335</td>\n      <td>1335</td>\n      <td>1342</td>\n      <td>1344</td>\n      <td>1347</td>\n      <td>1349</td>\n      <td>1356</td>\n    </tr>\n    <tr>\n      <th>12</th>\n      <td>South Australia</td>\n      <td>Australia</td>\n      <td>-34.928500</td>\n      <td>138.600700</td>\n      <td>0</td>\n      <td>0</td>\n      <td>0</td>\n      <td>0</td>\n      <td>0</td>\n      <td>0</td>\n      <td>...</td>\n      <td>613</td>\n      <td>613</td>\n      <td>616</td>\n      <td>617</td>\n      <td>618</td>\n      <td>618</td>\n      <td>618</td>\n      <td>618</td>\n      <td>618</td>\n      <td>618</td>\n    </tr>\n    <tr>\n      <th>...</th>\n      <td>...</td>\n      <td>...</td>\n      <td>...</td>\n      <td>...</td>\n      <td>...</td>\n      <td>...</td>\n      <td>...</td>\n      <td>...</td>\n      <td>...</td>\n      <td>...</td>\n      <td>...</td>\n      <td>...</td>\n      <td>...</td>\n      <td>...</td>\n      <td>...</td>\n      <td>...</td>\n      <td>...</td>\n      <td>...</td>\n      <td>...</td>\n      <td>...</td>\n      <td>...</td>\n    </tr>\n    <tr>\n      <th>259</th>\n      <td>Gibraltar</td>\n      <td>United Kingdom</td>\n      <td>36.140800</td>\n      <td>-5.353600</td>\n      <td>0</td>\n      <td>0</td>\n      <td>0</td>\n      <td>0</td>\n      <td>0</td>\n      <td>0</td>\n      <td>...</td>\n      <td>4236</td>\n      <td>4238</td>\n      <td>4239</td>\n      <td>4239</td>\n      <td>4243</td>\n      <td>4243</td>\n      <td>4243</td>\n      <td>4244</td>\n      <td>4247</td>\n      <td>4249</td>\n    </tr>\n    <tr>\n      <th>260</th>\n      <td>Isle of Man</td>\n      <td>United Kingdom</td>\n      <td>54.236100</td>\n      <td>-4.548100</td>\n      <td>0</td>\n      <td>0</td>\n      <td>0</td>\n      <td>0</td>\n      <td>0</td>\n      <td>0</td>\n      <td>...</td>\n      <td>475</td>\n      <td>484</td>\n      <td>484</td>\n      <td>486</td>\n      <td>494</td>\n      <td>511</td>\n      <td>546</td>\n      <td>605</td>\n      <td>676</td>\n      <td>757</td>\n    </tr>\n    <tr>\n      <th>261</th>\n      <td>Montserrat</td>\n      <td>United Kingdom</td>\n      <td>16.742498</td>\n      <td>-62.187366</td>\n      <td>0</td>\n      <td>0</td>\n      <td>0</td>\n      <td>0</td>\n      <td>0</td>\n      <td>0</td>\n      <td>...</td>\n      <td>20</td>\n      <td>20</td>\n      <td>20</td>\n      <td>20</td>\n      <td>20</td>\n      <td>20</td>\n      <td>20</td>\n      <td>20</td>\n      <td>20</td>\n      <td>20</td>\n    </tr>\n    <tr>\n      <th>262</th>\n      <td>Saint Helena, Ascension and Tristan da Cunha</td>\n      <td>United Kingdom</td>\n      <td>-7.946700</td>\n      <td>-14.355900</td>\n      <td>0</td>\n      <td>0</td>\n      <td>0</td>\n      <td>0</td>\n      <td>0</td>\n      <td>0</td>\n      <td>...</td>\n      <td>4</td>\n      <td>4</td>\n      <td>4</td>\n      <td>4</td>\n      <td>4</td>\n      <td>4</td>\n      <td>4</td>\n      <td>4</td>\n      <td>4</td>\n      <td>4</td>\n    </tr>\n    <tr>\n      <th>263</th>\n      <td>Turks and Caicos Islands</td>\n      <td>United Kingdom</td>\n      <td>21.694000</td>\n      <td>-71.797900</td>\n      <td>0</td>\n      <td>0</td>\n      <td>0</td>\n      <td>0</td>\n      <td>0</td>\n      <td>0</td>\n      <td>...</td>\n      <td>2088</td>\n      <td>2099</td>\n      <td>2114</td>\n      <td>2114</td>\n      <td>2115</td>\n      <td>2132</td>\n      <td>2161</td>\n      <td>2172</td>\n      <td>2177</td>\n      <td>2177</td>\n    </tr>\n  </tbody>\n</table>\n<p>84 rows × 415 columns</p>\n</div>"
          },
          "metadata": {},
          "execution_count": 21
        }
      ],
      "execution_count": 21
    },
    {
      "cell_type": "markdown",
      "source": [
        "This operation will delete any row with at least a single null value, but it will return a new DataFrame without altering the original one. You could specify `inplace=True` in this method as well."
      ],
      "metadata": {
        "tags": [],
        "cell_id": "00039-29e9a4f9-0cb9-4a63-b14b-c8b3e05150f8",
        "deepnote_cell_type": "markdown"
      }
    },
    {
      "cell_type": "code",
      "source": [
        "covid.dropna(inplace=True)\n",
        "covid.shape"
      ],
      "metadata": {
        "tags": [],
        "cell_id": "00040-6841246b-f58a-4af7-8a3b-230478530392",
        "deepnote_to_be_reexecuted": false,
        "source_hash": "32844738",
        "execution_start": 1615206522301,
        "execution_millis": 4,
        "deepnote_cell_type": "code"
      },
      "outputs": [
        {
          "output_type": "execute_result",
          "data": {
            "text/plain": [
              "(84, 415)"
            ]
          },
          "metadata": {},
          "execution_count": 22
        }
      ],
      "execution_count": 22
    },
    {
      "cell_type": "markdown",
      "source": [
        "Other than just dropping rows, you can also drop columns with null values by setting `axis=1`."
      ],
      "metadata": {
        "tags": [],
        "cell_id": "00042-84432bac-28df-47cc-b7d9-1890f75553a2",
        "deepnote_cell_type": "markdown"
      }
    },
    {
      "cell_type": "code",
      "source": [
        "covid.dropna(axis=1,inplace=True)\n",
        "covid.shape"
      ],
      "metadata": {
        "tags": [],
        "cell_id": "00042-bc152636-5f43-4e52-bdf2-22dd8d25013a",
        "deepnote_to_be_reexecuted": false,
        "source_hash": "200aa62d",
        "execution_start": 1615206582605,
        "execution_millis": 15,
        "deepnote_cell_type": "code"
      },
      "outputs": [
        {
          "output_type": "execute_result",
          "data": {
            "text/plain": [
              "(84, 415)"
            ]
          },
          "metadata": {},
          "execution_count": 23
        }
      ],
      "execution_count": 23
    },
    {
      "cell_type": "markdown",
      "source": [
        "---\n",
        "\n",
        "### Understanding our data\n",
        "\n",
        "Using `describe()` on an entire DataFrame we can get a summary of the distribution of continuous variables.\n",
        "\n"
      ],
      "metadata": {
        "tags": [],
        "cell_id": "00043-431eb1c8-fdd6-4554-91e7-9abe47fd7256",
        "deepnote_cell_type": "markdown"
      }
    },
    {
      "cell_type": "code",
      "source": [
        "covid['1/22/20'].describe()"
      ],
      "metadata": {
        "tags": [],
        "cell_id": "00045-c93db6f4-a225-4832-b25a-ebb4d1405f51",
        "deepnote_to_be_reexecuted": false,
        "source_hash": "c49d54a7",
        "execution_start": 1615206686847,
        "execution_millis": 6,
        "deepnote_cell_type": "code"
      },
      "outputs": [
        {
          "output_type": "execute_result",
          "data": {
            "text/plain": [
              "count     84.000000\n",
              "mean       6.523810\n",
              "std       48.442358\n",
              "min        0.000000\n",
              "25%        0.000000\n",
              "50%        0.000000\n",
              "75%        1.000000\n",
              "max      444.000000\n",
              "Name: 1/22/20, dtype: float64"
            ]
          },
          "metadata": {},
          "execution_count": 24
        }
      ],
      "execution_count": 24
    },
    {
      "cell_type": "markdown",
      "source": [
        "---\n",
        "_[Reference](https://www.learndatasci.com/tutorials/python-pandas-tutorial-complete-introduction-for-beginners/)_"
      ],
      "metadata": {
        "tags": [],
        "cell_id": "00045-7e29e699-c148-4dd6-bf11-8d2c989b072d",
        "deepnote_cell_type": "markdown"
      }
    }
  ],
  "nbformat": 4,
  "nbformat_minor": 2,
  "metadata": {
    "orig_nbformat": 2,
    "deepnote_notebook_id": "ece39efb-4596-4d5c-afbc-1be17873a1ad",
    "deepnote": {
      "is_reactive": false
    },
    "deepnote_execution_queue": [],
    "kernelspec": {
      "name": "python3",
      "display_name": "Python 3.7.3 64-bit",
      "metadata": {
        "interpreter": {
          "hash": "31f2aee4e71d21fbe5cf8b01ff0e069b9275f58929596ceb00d14d90e3e16cd6"
        }
      }
    }
  }
}