{
  "nbformat": 4,
  "nbformat_minor": 0,
  "metadata": {
    "colab": {
      "name": "Untitled19.ipynb",
      "private_outputs": true,
      "provenance": []
    },
    "kernelspec": {
      "name": "python3",
      "display_name": "Python 3"
    }
  },
  "cells": [
    {
      "cell_type": "markdown",
      "metadata": {
        "id": "EalrnQHQ2yy9"
      },
      "source": [
        "<img src=\"https://i.imgur.com/WTKvQ4h.png\" />\n",
        "\n",
        "*Estimated time: 15 minues*\n",
        "\n",
        "---"
      ]
    },
    {
      "cell_type": "markdown",
      "metadata": {
        "id": "laQSC2eFtvi2"
      },
      "source": [
        "# Numpy\n",
        "\n",
        "NumPy (Numerical Python) is an open source Python library that’s used in almost every field of science and engineering. It’s the universal standard for working with numerical data in Python, and it’s at the core of the scientific Python and PyData ecosystems. NumPy users include everyone from beginning coders to experienced researchers doing state-of-the-art scientific and industrial research and development. The NumPy API is used extensively in Pandas, SciPy, Matplotlib, scikit-learn, scikit-image and most other data science and scientific Python packages.\n",
        "\n",
        "---\n",
        "\n",
        "## Basic of Numpy\n",
        "\n",
        "NumPy’s main object is the homogeneous multidimensional array. It is a table of elements (usually numbers), all of the same type, indexed by a tuple of non-negative integers. In NumPy dimensions are called `axes`.\n",
        "\n",
        "NumPy’s array class is called `ndarray`. It is also known by the alias array.\n",
        "\n",
        "|`ndarray` attributes | Function |\n",
        "|:---:|---|\n",
        "|`ndim`|Number of axes (dimensions) of the array.|\n",
        "|`shape`|The dimensions of the array. For a matrix with `n` rows and `m` columns, shape will be `(n,m)`.|\n",
        "|`size`|Total number of elements of the array.|\n",
        "|`dtype`|Describing the type of the elements in the array.|\n",
        "\n",
        "Let's look an example. Let's create a evenly spaced values from 0 to 15 with `arange` and reshape to (3,5).\n"
      ]
    },
    {
      "cell_type": "code",
      "metadata": {
        "id": "8kzHhlB6ap67"
      },
      "source": [
        "import numpy as np\n",
        "a = np.arange(15).reshape(3, 5)\n",
        "a"
      ],
      "execution_count": null,
      "outputs": []
    },
    {
      "cell_type": "code",
      "metadata": {
        "id": "tEEUqXwMvuRX"
      },
      "source": [
        "a.shape"
      ],
      "execution_count": null,
      "outputs": []
    },
    {
      "cell_type": "code",
      "metadata": {
        "id": "9LhC6tQpvvtg"
      },
      "source": [
        "a.ndim"
      ],
      "execution_count": null,
      "outputs": []
    },
    {
      "cell_type": "code",
      "metadata": {
        "id": "aZQ9caSkvx9O"
      },
      "source": [
        "a.shape"
      ],
      "execution_count": null,
      "outputs": []
    },
    {
      "cell_type": "code",
      "metadata": {
        "id": "eR4fhTp7vzBY"
      },
      "source": [
        "a.size"
      ],
      "execution_count": null,
      "outputs": []
    },
    {
      "cell_type": "code",
      "metadata": {
        "id": "R3tLQgm9vzlE"
      },
      "source": [
        "a.dtype"
      ],
      "execution_count": null,
      "outputs": []
    },
    {
      "cell_type": "code",
      "metadata": {
        "id": "HUK8sTddv0se"
      },
      "source": [
        "type(a)"
      ],
      "execution_count": null,
      "outputs": []
    },
    {
      "cell_type": "markdown",
      "metadata": {
        "id": "NdT8DiCEv76v"
      },
      "source": [
        "Let's create an array with random number of ours."
      ]
    },
    {
      "cell_type": "code",
      "metadata": {
        "id": "Ws6t73OjwAJE"
      },
      "source": [
        "b = np.array([(1.5,2,3), (4,5,6)])\n",
        "b"
      ],
      "execution_count": null,
      "outputs": []
    },
    {
      "cell_type": "markdown",
      "metadata": {
        "id": "LpnYuV-8wNsb"
      },
      "source": [
        "The type of the array can also be explicitly specified at creation time."
      ]
    },
    {
      "cell_type": "code",
      "metadata": {
        "id": "x7yC_mzqwLQD"
      },
      "source": [
        "c = np.array( [ [1,2], [3,4] ], dtype=complex )\n",
        "c"
      ],
      "execution_count": null,
      "outputs": []
    },
    {
      "cell_type": "markdown",
      "metadata": {
        "id": "-IS-xDjQwWIa"
      },
      "source": [
        "---\n",
        "\n",
        "## Arrays of 0's and 1's\n",
        "\n",
        "The function `zeros` creates an array full of zeros, the function `ones `creates an array full of ones, and the function `empty` creates an array whose initial content is random and depends on the state of the memory. By default, the dtype of the created array is `float64`. We could create random arrays with `random.random()`."
      ]
    },
    {
      "cell_type": "code",
      "metadata": {
        "id": "HWYP79lLwnbW"
      },
      "source": [
        "one = np.ones((3,4))\n",
        "one"
      ],
      "execution_count": null,
      "outputs": []
    },
    {
      "cell_type": "code",
      "metadata": {
        "id": "Ut-7bWlBwwUl"
      },
      "source": [
        "one_int = np.ones((3,4),dtype=int)\n",
        "one_int"
      ],
      "execution_count": null,
      "outputs": []
    },
    {
      "cell_type": "code",
      "metadata": {
        "id": "9fka6oG8w1RZ"
      },
      "source": [
        "zero = np.zeros((3,4))\n",
        "zero"
      ],
      "execution_count": null,
      "outputs": []
    },
    {
      "cell_type": "code",
      "metadata": {
        "id": "HRbzf6FFw301"
      },
      "source": [
        "empty = np.empty((3,4))\n",
        "empty #result may differ"
      ],
      "execution_count": null,
      "outputs": []
    },
    {
      "cell_type": "code",
      "metadata": {
        "id": "R66EBbHtw_Ug"
      },
      "source": [
        "rand = np.random.random((3,4))\n",
        "rand"
      ],
      "execution_count": null,
      "outputs": []
    },
    {
      "cell_type": "markdown",
      "metadata": {
        "id": "U6qWZ9x3xIcP"
      },
      "source": [
        "---\n",
        "\n",
        "## Basic operation\n",
        "\n",
        "Arithmetic operators on arrays apply elementwise. A new array is created and filled with the result."
      ]
    },
    {
      "cell_type": "code",
      "metadata": {
        "id": "PNnVLBfaxTQH"
      },
      "source": [
        "x = np.array([10,20,30,40])\n",
        "y = np.array([1,2,4,5])\n",
        "z = x-y\n",
        "z"
      ],
      "execution_count": null,
      "outputs": []
    },
    {
      "cell_type": "code",
      "metadata": {
        "id": "-AfzdgRsxfsH"
      },
      "source": [
        "y**2"
      ],
      "execution_count": null,
      "outputs": []
    },
    {
      "cell_type": "code",
      "metadata": {
        "id": "oTTzInvdxhwZ"
      },
      "source": [
        "y*2"
      ],
      "execution_count": null,
      "outputs": []
    },
    {
      "cell_type": "code",
      "metadata": {
        "id": "_mnVJjX5xiiK"
      },
      "source": [
        "x<30"
      ],
      "execution_count": null,
      "outputs": []
    },
    {
      "cell_type": "markdown",
      "metadata": {
        "id": "6T8hBqAhxqXv"
      },
      "source": [
        "The product operator `*` operates elementwise in NumPy arrays. The matrix product can be performed using the `@` operator (in `python >=3.5`) or the `dot` function or method"
      ]
    },
    {
      "cell_type": "code",
      "metadata": {
        "id": "hmUeu1Lzxkpg"
      },
      "source": [
        "f = np.array([[1,2],[3,4]])\n",
        "g = np.array([[3,4],[5,6]])"
      ],
      "execution_count": null,
      "outputs": []
    },
    {
      "cell_type": "code",
      "metadata": {
        "id": "rtQNu4kux16T"
      },
      "source": [
        "f*g"
      ],
      "execution_count": null,
      "outputs": []
    },
    {
      "cell_type": "code",
      "metadata": {
        "id": "IuyX-zetx26x"
      },
      "source": [
        "f@g"
      ],
      "execution_count": null,
      "outputs": []
    },
    {
      "cell_type": "code",
      "metadata": {
        "id": "CJW2_eQrx4Ok"
      },
      "source": [
        "f.dot(g)"
      ],
      "execution_count": null,
      "outputs": []
    },
    {
      "cell_type": "markdown",
      "metadata": {
        "id": "bgbD14k2yG8I"
      },
      "source": [
        "---\n",
        "\n",
        "## Indexing, Slicing and Iterating\n",
        "\n",
        "One-dimensional arrays can be indexed, sliced and iterated over, much like lists and other Python sequences."
      ]
    },
    {
      "cell_type": "code",
      "metadata": {
        "id": "OYYWHQNRx8dE"
      },
      "source": [
        "a = np.array([1,2,4,6])\n",
        "a[0]"
      ],
      "execution_count": null,
      "outputs": []
    },
    {
      "cell_type": "code",
      "metadata": {
        "id": "PvnVB7uMyRp5"
      },
      "source": [
        "a[1:3]"
      ],
      "execution_count": null,
      "outputs": []
    },
    {
      "cell_type": "markdown",
      "metadata": {
        "id": "dS72g6TLybvk"
      },
      "source": [
        "Multidimensional arrays can have one index per axis. These indices are given in a tuple separated by commas:"
      ]
    },
    {
      "cell_type": "code",
      "metadata": {
        "id": "1xTe73ENycWT"
      },
      "source": [
        "b = np.array([[1,2,3,4],[3,4,5,6],[7,8,9,10],[8,9,10,11]])\n",
        "b[0][0]"
      ],
      "execution_count": null,
      "outputs": []
    },
    {
      "cell_type": "code",
      "metadata": {
        "id": "Zn1HP-Rnyh03"
      },
      "source": [
        "b[0,0]"
      ],
      "execution_count": null,
      "outputs": []
    },
    {
      "cell_type": "code",
      "metadata": {
        "id": "VKcghYi9yvB-"
      },
      "source": [
        "b[0:4,0]"
      ],
      "execution_count": null,
      "outputs": []
    },
    {
      "cell_type": "code",
      "metadata": {
        "id": "zaApnBEUy1X9"
      },
      "source": [
        "b[-1]"
      ],
      "execution_count": null,
      "outputs": []
    },
    {
      "cell_type": "code",
      "metadata": {
        "id": "QAWLx0dezEPG"
      },
      "source": [
        "for row in b:\n",
        "  print(row)"
      ],
      "execution_count": null,
      "outputs": []
    },
    {
      "cell_type": "markdown",
      "metadata": {
        "id": "IKsjVQ3lzF3U"
      },
      "source": [
        "However, if one wants to perform an operation on each element in the array, one can use the `flat` attribute which is an iterator over all the elements of the array:\n"
      ]
    },
    {
      "cell_type": "code",
      "metadata": {
        "id": "HMZ6m7tHzJej"
      },
      "source": [
        "for elem in b.flat:\n",
        "  print(elem)"
      ],
      "execution_count": null,
      "outputs": []
    },
    {
      "cell_type": "markdown",
      "metadata": {
        "id": "WJGK8AohzNPk"
      },
      "source": [
        "---\n",
        "## Aggregation\n"
      ]
    },
    {
      "cell_type": "code",
      "metadata": {
        "id": "zOqYRC0OzcLP"
      },
      "source": [
        "b = np.array([[3,4,5,6],[89,2,4,39]])"
      ],
      "execution_count": null,
      "outputs": []
    },
    {
      "cell_type": "code",
      "metadata": {
        "id": "g5b2D6Dozg_m"
      },
      "source": [
        "b.max()"
      ],
      "execution_count": null,
      "outputs": []
    },
    {
      "cell_type": "code",
      "metadata": {
        "id": "sSNHx6Lvzi49"
      },
      "source": [
        "b.min()"
      ],
      "execution_count": null,
      "outputs": []
    },
    {
      "cell_type": "code",
      "metadata": {
        "id": "nl--x4sUzkIM"
      },
      "source": [
        "b.mean()"
      ],
      "execution_count": null,
      "outputs": []
    },
    {
      "cell_type": "code",
      "metadata": {
        "id": "SZy5ed_rzk4M"
      },
      "source": [
        "b.sum()"
      ],
      "execution_count": null,
      "outputs": []
    },
    {
      "cell_type": "code",
      "metadata": {
        "id": "XMZd0AV5znks"
      },
      "source": [
        "b.std()"
      ],
      "execution_count": null,
      "outputs": []
    },
    {
      "cell_type": "markdown",
      "metadata": {
        "id": "SX76hTSrzo6U"
      },
      "source": [
        "---\n",
        "## Transposing and Reshaping\n",
        "A common need when dealing with matrices is the need to rotate them. This is often the case when we need to take the dot product of two matrices and need to align the dimension they share. NumPy arrays have a convenient property called `T` to get the transpose of a matrix:"
      ]
    },
    {
      "cell_type": "code",
      "metadata": {
        "id": "nS91SMlzzw_g"
      },
      "source": [
        "c = np.array([[1,2,3,4],[5,6,7,5]])\n",
        "c"
      ],
      "execution_count": null,
      "outputs": []
    },
    {
      "cell_type": "code",
      "metadata": {
        "id": "kzpaiRKtz1zW"
      },
      "source": [
        "c.T"
      ],
      "execution_count": null,
      "outputs": []
    },
    {
      "cell_type": "code",
      "metadata": {
        "id": "yggmGHPsz4dF"
      },
      "source": [
        "c.reshape(1,8)"
      ],
      "execution_count": null,
      "outputs": []
    },
    {
      "cell_type": "markdown",
      "metadata": {
        "id": "xUPewPxB0cdC"
      },
      "source": [
        "---\n",
        "## Stacking together different arrays\n",
        "Several arrays can be stacked together along different axes:"
      ]
    },
    {
      "cell_type": "code",
      "metadata": {
        "id": "zHAzEVgT0fmu"
      },
      "source": [
        "b = np.zeros((2,3))\n",
        "c = np.array([[4,5,6],[3,2,1]])"
      ],
      "execution_count": null,
      "outputs": []
    },
    {
      "cell_type": "code",
      "metadata": {
        "id": "s6EoZeIs0oxm"
      },
      "source": [
        "np.hstack((b,c))"
      ],
      "execution_count": null,
      "outputs": []
    },
    {
      "cell_type": "code",
      "metadata": {
        "id": "g-zGvjGf0wf6"
      },
      "source": [
        "np.vstack((b,c))"
      ],
      "execution_count": null,
      "outputs": []
    },
    {
      "cell_type": "markdown",
      "metadata": {
        "id": "M0iVUvYF0C5g"
      },
      "source": [
        "---\n",
        "## Multidimension\n"
      ]
    },
    {
      "cell_type": "code",
      "metadata": {
        "id": "QC-XkCxl0Ejx"
      },
      "source": [
        "m = np.array([[[1,2,3],[5,6,7]],[[3,4,5],[7,8,9]]])"
      ],
      "execution_count": null,
      "outputs": []
    },
    {
      "cell_type": "code",
      "metadata": {
        "id": "GsAsgWFB0MTs"
      },
      "source": [
        "m"
      ],
      "execution_count": null,
      "outputs": []
    },
    {
      "cell_type": "code",
      "metadata": {
        "id": "6v_bkIqf0QPl"
      },
      "source": [
        "m*2"
      ],
      "execution_count": null,
      "outputs": []
    },
    {
      "cell_type": "code",
      "metadata": {
        "id": "tTSAVHE50RQn"
      },
      "source": [
        "m+2"
      ],
      "execution_count": null,
      "outputs": []
    },
    {
      "cell_type": "code",
      "metadata": {
        "id": "SJmOmoU60Tny"
      },
      "source": [
        "np.zeros((2,3,2))"
      ],
      "execution_count": null,
      "outputs": []
    },
    {
      "cell_type": "markdown",
      "metadata": {
        "id": "U00PeMR10_Qk"
      },
      "source": [
        "---\n",
        "[References](https://numpy.org/doc/stable/user/quickstart.html)"
      ]
    }
  ]
}